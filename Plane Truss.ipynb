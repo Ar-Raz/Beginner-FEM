{
 "cells": [
  {
   "cell_type": "markdown",
   "metadata": {},
   "source": [
    "Following plane truss problem solution by IPython from Logan's finite element textbook:"
   ]
  },
  {
   "cell_type": "markdown",
   "metadata": {},
   "source": [
    "![](Ex3.5.png)"
   ]
  },
  {
   "cell_type": "code",
   "execution_count": 2,
   "metadata": {},
   "outputs": [],
   "source": [
    "import numpy as np\n",
    "import sympy as sp\n",
    "from sympy import Matrix, symbols,Symbol,zeros as spzeros , N"
   ]
  },
  {
   "cell_type": "code",
   "execution_count": 13,
   "metadata": {},
   "outputs": [],
   "source": [
    "A , E , L = symbols(\"A E L\")\n",
    "# defining stiffness matrices for each element\n",
    "k1 = Matrix(8,8,lambda i,j:0)\n",
    "k1[0,0:4] = Matrix(1,4,[1,0,1,0])\n",
    "k1[2,0:4] = Matrix(1,4,[1,0,1,0])"
   ]
  },
  {
   "cell_type": "code",
   "execution_count": 22,
   "metadata": {},
   "outputs": [
    {
     "data": {
      "text/latex": [
       "$\\displaystyle \\left[\\begin{matrix}0.5 & 0.5 & 0 & 0 & 0.5 & 0.5 & 0 & 0\\\\0.5 & 0.5 & 0 & 0 & 0.5 & 0.5 & 0 & 0\\\\0 & 0 & 0 & 0 & 0 & 0 & 0 & 0\\\\0 & 0 & 0 & 0 & 0 & 0 & 0 & 0\\\\0.5 & 0.5 & 0 & 0 & 0.5 & 0.5 & 0 & 0\\\\0.5 & 0.5 & 0 & 0 & 0.5 & 0.5 & 0 & 0\\\\0 & 0 & 0 & 0 & 0 & 0 & 0 & 0\\\\0 & 0 & 0 & 0 & 0 & 0 & 0 & 0\\end{matrix}\\right]$"
      ],
      "text/plain": [
       "Matrix([\n",
       "[0.5, 0.5, 0, 0, 0.5, 0.5, 0, 0],\n",
       "[0.5, 0.5, 0, 0, 0.5, 0.5, 0, 0],\n",
       "[  0,   0, 0, 0,   0,   0, 0, 0],\n",
       "[  0,   0, 0, 0,   0,   0, 0, 0],\n",
       "[0.5, 0.5, 0, 0, 0.5, 0.5, 0, 0],\n",
       "[0.5, 0.5, 0, 0, 0.5, 0.5, 0, 0],\n",
       "[  0,   0, 0, 0,   0,   0, 0, 0],\n",
       "[  0,   0, 0, 0,   0,   0, 0, 0]])"
      ]
     },
     "execution_count": 22,
     "metadata": {},
     "output_type": "execute_result"
    }
   ],
   "source": [
    "k2 = Matrix(8,8,lambda i ,j:0)\n",
    "#the k2 matrice is in 4 parts of 2x2 :\n",
    "k2[0:2,0:2] = Matrix(2,2,lambda i,j:0.5)\n",
    "k2[0:2,4:6] = Matrix(2,2,lambda i,j:0.5)\n",
    "k2[4:6,0:2] = Matrix(2,2,lambda i,j:0.5)\n",
    "k2[4:6,4:6] = Matrix(2,2,lambda i,j:0.5)\n",
    "k2"
   ]
  },
  {
   "cell_type": "code",
   "execution_count": 24,
   "metadata": {},
   "outputs": [
    {
     "data": {
      "text/latex": [
       "$\\displaystyle \\left[\\begin{matrix}1 & 0 & 0 & 0 & 0 & 0 & 1 & 0\\\\0 & 0 & 0 & 0 & 0 & 0 & 0 & 0\\\\0 & 0 & 0 & 0 & 0 & 0 & 0 & 0\\\\0 & 0 & 0 & 0 & 0 & 0 & 0 & 0\\\\0 & 0 & 0 & 0 & 0 & 0 & 0 & 0\\\\0 & 0 & 0 & 0 & 0 & 0 & 0 & 0\\\\1 & 0 & 0 & 0 & 0 & 0 & 1 & 0\\\\0 & 0 & 0 & 0 & 0 & 0 & 0 & 0\\end{matrix}\\right]$"
      ],
      "text/plain": [
       "Matrix([\n",
       "[1, 0, 0, 0, 0, 0, 1, 0],\n",
       "[0, 0, 0, 0, 0, 0, 0, 0],\n",
       "[0, 0, 0, 0, 0, 0, 0, 0],\n",
       "[0, 0, 0, 0, 0, 0, 0, 0],\n",
       "[0, 0, 0, 0, 0, 0, 0, 0],\n",
       "[0, 0, 0, 0, 0, 0, 0, 0],\n",
       "[1, 0, 0, 0, 0, 0, 1, 0],\n",
       "[0, 0, 0, 0, 0, 0, 0, 0]])"
      ]
     },
     "execution_count": 24,
     "metadata": {},
     "output_type": "execute_result"
    }
   ],
   "source": [
    "k3 = Matrix(8,8,lambda i,j:0)\n",
    "# the k3 matrice is nonzero in only 4 points 1,1 , 1,7 , 7,1 and 7,7\n",
    "k3[0,0:8] = Matrix(1,8,[1,0,0,0,0,0,1,0])\n",
    "k3[6,0:8] = Matrix(1,8,[1,0,0,0,0,0,1,0])\n",
    "k3"
   ]
  },
  {
   "cell_type": "code",
   "execution_count": 43,
   "metadata": {},
   "outputs": [],
   "source": [
    "#time to derive the final stiffness \n",
    "from sympy import sqrt\n",
    "K1 = A*E/L *Matrix(k1)\n",
    "K2 = A*E/(L*sqrt(2)/2) * Matrix(k2)\n",
    "K3 = A*E/L * Matrix(k3)"
   ]
  },
  {
   "cell_type": "code",
   "execution_count": 44,
   "metadata": {},
   "outputs": [],
   "source": [
    "subs = {A:2 ,E:3e7,L:120}"
   ]
  },
  {
   "cell_type": "code",
   "execution_count": 45,
   "metadata": {},
   "outputs": [],
   "source": [
    "K1 = N(K1.subs(subs))\n",
    "K2 = N(K2.subs(subs))\n",
    "K3 = N(K3.subs(subs))"
   ]
  },
  {
   "cell_type": "code",
   "execution_count": 46,
   "metadata": {},
   "outputs": [],
   "source": [
    "K = K1 + K2 + K3"
   ]
  },
  {
   "cell_type": "code",
   "execution_count": 47,
   "metadata": {},
   "outputs": [
    {
     "data": {
      "text/latex": [
       "$\\displaystyle \\left[\\begin{matrix}853553.390593274 & 353553.390593274 & 0 & 0 & 353553.390593274 & 353553.390593274 & 500000.0 & 0\\\\353553.390593274 & 853553.390593274 & 0 & 500000.0 & 353553.390593274 & 353553.390593274 & 0 & 0\\\\0 & 0 & 0 & 0 & 0 & 0 & 0 & 0\\\\0 & 500000.0 & 0 & 500000.0 & 0 & 0 & 0 & 0\\\\353553.390593274 & 353553.390593274 & 0 & 0 & 353553.390593274 & 353553.390593274 & 0 & 0\\\\353553.390593274 & 353553.390593274 & 0 & 0 & 353553.390593274 & 353553.390593274 & 0 & 0\\\\500000.0 & 0 & 0 & 0 & 0 & 0 & 500000.0 & 0\\\\0 & 0 & 0 & 0 & 0 & 0 & 0 & 0\\end{matrix}\\right]$"
      ],
      "text/plain": [
       "Matrix([\n",
       "[853553.390593274, 353553.390593274, 0,        0, 353553.390593274, 353553.390593274, 500000.0, 0],\n",
       "[353553.390593274, 853553.390593274, 0, 500000.0, 353553.390593274, 353553.390593274,        0, 0],\n",
       "[               0,                0, 0,        0,                0,                0,        0, 0],\n",
       "[               0,         500000.0, 0, 500000.0,                0,                0,        0, 0],\n",
       "[353553.390593274, 353553.390593274, 0,        0, 353553.390593274, 353553.390593274,        0, 0],\n",
       "[353553.390593274, 353553.390593274, 0,        0, 353553.390593274, 353553.390593274,        0, 0],\n",
       "[        500000.0,                0, 0,        0,                0,                0, 500000.0, 0],\n",
       "[               0,                0, 0,        0,                0,                0,        0, 0]])"
      ]
     },
     "execution_count": 47,
     "metadata": {},
     "output_type": "execute_result"
    }
   ],
   "source": [
    "K"
   ]
  },
  {
   "cell_type": "code",
   "execution_count": 48,
   "metadata": {},
   "outputs": [
    {
     "data": {
      "text/latex": [
       "$\\displaystyle \\left[\\begin{matrix}1.70710678118655 & 0.707106781186547 & 0 & 0 & 0.707106781186547 & 0.707106781186547 & 1.0 & 0\\\\0.707106781186547 & 1.70710678118655 & 0 & 1.0 & 0.707106781186547 & 0.707106781186547 & 0 & 0\\\\0 & 0 & 0 & 0 & 0 & 0 & 0 & 0\\\\0 & 1.0 & 0 & 1.0 & 0 & 0 & 0 & 0\\\\0.707106781186547 & 0.707106781186547 & 0 & 0 & 0.707106781186547 & 0.707106781186547 & 0 & 0\\\\0.707106781186547 & 0.707106781186547 & 0 & 0 & 0.707106781186547 & 0.707106781186547 & 0 & 0\\\\1.0 & 0 & 0 & 0 & 0 & 0 & 1.0 & 0\\\\0 & 0 & 0 & 0 & 0 & 0 & 0 & 0\\end{matrix}\\right]$"
      ],
      "text/plain": [
       "Matrix([\n",
       "[ 1.70710678118655, 0.707106781186547, 0,   0, 0.707106781186547, 0.707106781186547, 1.0, 0],\n",
       "[0.707106781186547,  1.70710678118655, 0, 1.0, 0.707106781186547, 0.707106781186547,   0, 0],\n",
       "[                0,                 0, 0,   0,                 0,                 0,   0, 0],\n",
       "[                0,               1.0, 0, 1.0,                 0,                 0,   0, 0],\n",
       "[0.707106781186547, 0.707106781186547, 0,   0, 0.707106781186547, 0.707106781186547,   0, 0],\n",
       "[0.707106781186547, 0.707106781186547, 0,   0, 0.707106781186547, 0.707106781186547,   0, 0],\n",
       "[              1.0,                 0, 0,   0,                 0,                 0, 1.0, 0],\n",
       "[                0,                 0, 0,   0,                 0,                 0,   0, 0]])"
      ]
     },
     "execution_count": 48,
     "metadata": {},
     "output_type": "execute_result"
    }
   ],
   "source": [
    "K / 500000"
   ]
  },
  {
   "cell_type": "code",
   "execution_count": 66,
   "metadata": {},
   "outputs": [],
   "source": [
    "u1 , v2 = symbols(\"u1 v2\")\n",
    "u = Matrix(8,1,[u1, v2,0,0,0,0,0,0])"
   ]
  },
  {
   "cell_type": "code",
   "execution_count": 67,
   "metadata": {},
   "outputs": [],
   "source": [
    "F2x,F2y,F3x,F3y,F4x,F4y= symbols(\"F_2x F_2y F_3x F_3y F_4x F_4y\")\n",
    "F = Matrix(8,1,[0,1000,F2x,F2y,F3x,F3y,F4x,F4y])"
   ]
  },
  {
   "cell_type": "code",
   "execution_count": 68,
   "metadata": {},
   "outputs": [],
   "source": [
    "u[0:2,:] = K [0:2,0:2].LUsolve(F[0:2,:]) "
   ]
  },
  {
   "cell_type": "code",
   "execution_count": 69,
   "metadata": {},
   "outputs": [
    {
     "data": {
      "text/latex": [
       "$\\displaystyle \\left[\\begin{matrix}-0.000585786437626905\\\\0.0014142135623731\\\\0\\\\0\\\\0\\\\0\\\\0\\\\0\\end{matrix}\\right]$"
      ],
      "text/plain": [
       "Matrix([\n",
       "[-0.000585786437626905],\n",
       "[   0.0014142135623731],\n",
       "[                    0],\n",
       "[                    0],\n",
       "[                    0],\n",
       "[                    0],\n",
       "[                    0],\n",
       "[                    0]])"
      ]
     },
     "execution_count": 69,
     "metadata": {},
     "output_type": "execute_result"
    }
   ],
   "source": [
    "u"
   ]
  },
  {
   "cell_type": "code",
   "execution_count": 70,
   "metadata": {},
   "outputs": [
    {
     "data": {
      "text/latex": [
       "$\\displaystyle \\left[\\begin{matrix}-5.6843418860808 \\cdot 10^{-14}\\\\1000.0\\\\0\\\\707.106781186548\\\\292.893218813452\\\\292.893218813452\\\\-292.893218813452\\\\0\\end{matrix}\\right]$"
      ],
      "text/plain": [
       "Matrix([\n",
       "[-5.6843418860808e-14],\n",
       "[              1000.0],\n",
       "[                   0],\n",
       "[    707.106781186548],\n",
       "[    292.893218813452],\n",
       "[    292.893218813452],\n",
       "[   -292.893218813452],\n",
       "[                   0]])"
      ]
     },
     "execution_count": 70,
     "metadata": {},
     "output_type": "execute_result"
    }
   ],
   "source": [
    "react = K * u\n",
    "react"
   ]
  }
 ],
 "metadata": {
  "kernelspec": {
   "display_name": "Python 3",
   "language": "python",
   "name": "python3"
  },
  "language_info": {
   "codemirror_mode": {
    "name": "ipython",
    "version": 3
   },
   "file_extension": ".py",
   "mimetype": "text/x-python",
   "name": "python",
   "nbconvert_exporter": "python",
   "pygments_lexer": "ipython3",
   "version": "3.7.4"
  }
 },
 "nbformat": 4,
 "nbformat_minor": 2
}
