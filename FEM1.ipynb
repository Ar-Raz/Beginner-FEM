{
 "cells": [
  {
   "cell_type": "raw",
   "metadata": {},
   "source": [
    "The following problem solution through stifness method by IPython:\n",
    "tring to find the reaction forces in each nodes"
   ]
  },
  {
   "cell_type": "markdown",
   "metadata": {},
   "source": [
    "![](algo_ex.jpeg)"
   ]
  },
  {
   "cell_type": "code",
   "execution_count": 2,
   "metadata": {},
   "outputs": [],
   "source": [
    "import numpy as np\n",
    "import sympy as sp\n",
    "from sympy import Matrix, symbols , Symbol ,zeros as spzeros , N"
   ]
  },
  {
   "cell_type": "code",
   "execution_count": 4,
   "metadata": {},
   "outputs": [],
   "source": [
    "k1 , k2 , k3 = symbols(\"k1 k2 k3\") # defining stifnesses as symbols to ease the upcoming pain "
   ]
  },
  {
   "cell_type": "code",
   "execution_count": 9,
   "metadata": {},
   "outputs": [],
   "source": [
    "#definin a  4x4 matrice for global stiffness of each stiffness K1 ,K2 ,K3 ,K4 or could define\n",
    "#the matrice in the noraml way and not add up the four matrice to get the Kg(global) but due\n",
    "#to educational purpose[!?] I do it the first way"
   ]
  },
  {
   "cell_type": "code",
   "execution_count": 19,
   "metadata": {},
   "outputs": [
    {
     "data": {
      "text/latex": [
       "$\\displaystyle \\left[\\begin{matrix}k_{1} & 0 & - k_{1} & 0\\\\0 & 0 & 0 & 0\\\\- k_{1} & 0 & k_{1} & 0\\\\0 & 0 & 0 & 0\\end{matrix}\\right]$"
      ],
      "text/plain": [
       "Matrix([\n",
       "[ k1, 0, -k1, 0],\n",
       "[  0, 0,   0, 0],\n",
       "[-k1, 0,  k1, 0],\n",
       "[  0, 0,   0, 0]])"
      ]
     },
     "execution_count": 19,
     "metadata": {},
     "output_type": "execute_result"
    }
   ],
   "source": [
    "K1 = Matrix(4,4,lambda i , j: 0)\n",
    "K1[0,:] = Matrix(1,4,[k1, 0, -k1, 0])\n",
    "K1[2,:] = Matrix(1,4,[-k1, 0, k1, 0])\n",
    "K1"
   ]
  },
  {
   "cell_type": "code",
   "execution_count": 14,
   "metadata": {},
   "outputs": [],
   "source": [
    "K2 = Matrix(4,4,lambda i,j: 0)\n",
    "K2[2:4,2:4] = Matrix(2,2,lambda i,j:k2 if i==j else -k2)"
   ]
  },
  {
   "cell_type": "code",
   "execution_count": 15,
   "metadata": {},
   "outputs": [],
   "source": [
    "K3 = Matrix(4,4,lambda i,j:0)\n",
    "K3[1,:] = Matrix(1,4,[0,k3,0,-k3])\n",
    "K3[3,:] = Matrix(1,4,[0,-k3,0,k3])\n"
   ]
  },
  {
   "cell_type": "code",
   "execution_count": 21,
   "metadata": {},
   "outputs": [],
   "source": [
    "Kg = K1 + K2 + K3"
   ]
  },
  {
   "cell_type": "code",
   "execution_count": 26,
   "metadata": {},
   "outputs": [
    {
     "data": {
      "text/latex": [
       "$\\displaystyle \\left[\\begin{matrix}k_{1} & 0 & - k_{1} & 0\\\\0 & k_{3} & 0 & - k_{3}\\\\- k_{1} & 0 & k_{1} + k_{2} & - k_{2}\\\\0 & - k_{3} & - k_{2} & k_{2} + k_{3}\\end{matrix}\\right]$"
      ],
      "text/plain": [
       "Matrix([\n",
       "[ k1,   0,     -k1,       0],\n",
       "[  0,  k3,       0,     -k3],\n",
       "[-k1,   0, k1 + k2,     -k2],\n",
       "[  0, -k3,     -k2, k2 + k3]])"
      ]
     },
     "execution_count": 26,
     "metadata": {},
     "output_type": "execute_result"
    }
   ],
   "source": [
    "K = Matrix(Kg)\n",
    "K"
   ]
  },
  {
   "cell_type": "code",
   "execution_count": 40,
   "metadata": {},
   "outputs": [],
   "source": [
    "#defining F and u matrices\n",
    "F1,F2= symbols(\"F1 F2\")\n",
    "u3,u4 = symbols(\"u3 u4\")\n",
    "F = Matrix(4,1,[F1 ,F2,0,5000])\n",
    "u = Matrix(4,1,[0,0,u3,u4])\n",
    "\n"
   ]
  },
  {
   "cell_type": "code",
   "execution_count": 41,
   "metadata": {},
   "outputs": [],
   "source": [
    "u[2:,:] = K[2:,2:].LUsolve(F[2:,:]) #solve for matrice u and F without zeros of u"
   ]
  },
  {
   "cell_type": "code",
   "execution_count": 42,
   "metadata": {},
   "outputs": [
    {
     "data": {
      "text/latex": [
       "$\\displaystyle \\left[\\begin{matrix}0\\\\0\\\\\\frac{5000 k_{2}}{\\left(k_{1} + k_{2}\\right) \\left(- \\frac{k_{2}^{2}}{k_{1} + k_{2}} + k_{2} + k_{3}\\right)}\\\\\\frac{5000}{- \\frac{k_{2}^{2}}{k_{1} + k_{2}} + k_{2} + k_{3}}\\end{matrix}\\right]$"
      ],
      "text/plain": [
       "Matrix([\n",
       "[                                               0],\n",
       "[                                               0],\n",
       "[5000*k2/((k1 + k2)*(-k2**2/(k1 + k2) + k2 + k3))],\n",
       "[               5000/(-k2**2/(k1 + k2) + k2 + k3)]])"
      ]
     },
     "execution_count": 42,
     "metadata": {},
     "output_type": "execute_result"
    }
   ],
   "source": [
    "u"
   ]
  },
  {
   "cell_type": "code",
   "execution_count": 56,
   "metadata": {},
   "outputs": [],
   "source": [
    "subs = {k1:1000,k2:2000,k3:3000}"
   ]
  },
  {
   "cell_type": "code",
   "execution_count": 58,
   "metadata": {},
   "outputs": [
    {
     "data": {
      "text/latex": [
       "$\\displaystyle \\left[\\begin{matrix}0\\\\0\\\\0.909090909090909\\\\1.36363636363636\\end{matrix}\\right]$"
      ],
      "text/plain": [
       "Matrix([\n",
       "[                0],\n",
       "[                0],\n",
       "[0.909090909090909],\n",
       "[ 1.36363636363636]])"
      ]
     },
     "execution_count": 58,
     "metadata": {},
     "output_type": "execute_result"
    }
   ],
   "source": [
    "#substitute the stiffnesses with given values\n",
    "#the displacement matrice is right down here\n",
    "u = N(u.subs(subs))\n",
    "u"
   ]
  },
  {
   "cell_type": "code",
   "execution_count": 63,
   "metadata": {},
   "outputs": [],
   "source": [
    "react = K * u"
   ]
  },
  {
   "cell_type": "code",
   "execution_count": 64,
   "metadata": {},
   "outputs": [
    {
     "data": {
      "text/latex": [
       "$\\displaystyle \\left[\\begin{matrix}- 0.909090909090909 k_{1}\\\\- 1.36363636363636 k_{3}\\\\0.909090909090909 k_{1} - 0.454545454545454 k_{2}\\\\0.454545454545454 k_{2} + 1.36363636363636 k_{3}\\end{matrix}\\right]$"
      ],
      "text/plain": [
       "Matrix([\n",
       "[                      -0.909090909090909*k1],\n",
       "[                       -1.36363636363636*k3],\n",
       "[0.909090909090909*k1 - 0.454545454545454*k2],\n",
       "[ 0.454545454545454*k2 + 1.36363636363636*k3]])"
      ]
     },
     "execution_count": 64,
     "metadata": {},
     "output_type": "execute_result"
    }
   ],
   "source": [
    "react #no stiffness substituted below"
   ]
  },
  {
   "cell_type": "code",
   "execution_count": 65,
   "metadata": {},
   "outputs": [
    {
     "data": {
      "text/latex": [
       "$\\displaystyle \\left[\\begin{matrix}-909.090909090909\\\\-4090.90909090909\\\\1.13686837721616 \\cdot 10^{-13}\\\\5000.0\\end{matrix}\\right]$"
      ],
      "text/plain": [
       "Matrix([\n",
       "[   -909.090909090909],\n",
       "[   -4090.90909090909],\n",
       "[1.13686837721616e-13],\n",
       "[              5000.0]])"
      ]
     },
     "execution_count": 65,
     "metadata": {},
     "output_type": "execute_result"
    }
   ],
   "source": [
    "N(react.subs(subs)) #THE F matrice"
   ]
  },
  {
   "cell_type": "code",
   "execution_count": null,
   "metadata": {},
   "outputs": [],
   "source": [
    "#totally correct GGEZ"
   ]
  }
 ],
 "metadata": {
  "kernelspec": {
   "display_name": "Python 3",
   "language": "python",
   "name": "python3"
  },
  "language_info": {
   "codemirror_mode": {
    "name": "ipython",
    "version": 3
   },
   "file_extension": ".py",
   "mimetype": "text/x-python",
   "name": "python",
   "nbconvert_exporter": "python",
   "pygments_lexer": "ipython3",
   "version": "3.7.4"
  }
 },
 "nbformat": 4,
 "nbformat_minor": 2
}
