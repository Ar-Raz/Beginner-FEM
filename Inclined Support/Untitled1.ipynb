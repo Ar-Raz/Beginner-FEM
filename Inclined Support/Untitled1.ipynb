{
 "cells": [
  {
   "cell_type": "markdown",
   "metadata": {},
   "source": [
    "# 3D truss with inclined support\n",
    "We are about to solve the following problem assuming that the support is inclined at node 5 with a 45 degree angle with each axises of x , y and z:"
   ]
  },
  {
   "cell_type": "markdown",
   "metadata": {},
   "source": [
    "![](Inclined.png)"
   ]
  },
  {
   "cell_type": "code",
   "execution_count": 1,
   "metadata": {},
   "outputs": [],
   "source": [
    "#importing necesseties\n",
    "import numpy as np\n",
    "import sympy as sp\n",
    "from sympy import Matrix , symbols, Symbol , zeros as spzeros , N"
   ]
  },
  {
   "cell_type": "code",
   "execution_count": 2,
   "metadata": {},
   "outputs": [],
   "source": [
    "cx , cy ,cz = symbols(\"Cx Cy Cz\")\n",
    "λ = np.array([[cx**2 , cx*cy , cx*cz],\n",
    "                [cy*cx , cy**2 , cy*cz],\n",
    "                [cz*cx , cz*cy , cz*cz]])\n",
    "λ = Matrix(λ)\n",
    "λ1, λ2, λ3 , λ4 = symbols(\"λ1 λ2 λ3 λ4\")"
   ]
  },
  {
   "cell_type": "markdown",
   "metadata": {},
   "source": [
    "### Element 1-2"
   ]
  },
  {
   "cell_type": "code",
   "execution_count": 3,
   "metadata": {},
   "outputs": [],
   "source": [
    "subs = {cx : -0.8, cy : 0 , cz :-0.6}\n",
    "λ1 = np.array([[cx**2 , cx*cy , cx*cz],\n",
    "                [cy*cx , cy**2 , cy*cz],\n",
    "                [cz*cx , cz*cy , cz*cz]])\n",
    "λ1 = Matrix(λ1)\n",
    "λ1 = N(λ1.subs(subs))\n",
    "k1 = Matrix(15,15,lambda i,j:0)\n",
    "k1[0:3,0:3] = λ1\n",
    "k1[0:3,3:6] = -λ1\n",
    "k1[3:6,0:3] = -λ1\n",
    "k1[3:6,3:6] = λ1\n",
    "K1 = 42000 * k1"
   ]
  },
  {
   "cell_type": "markdown",
   "metadata": {},
   "source": [
    "### Element 1-3"
   ]
  },
  {
   "cell_type": "code",
   "execution_count": 4,
   "metadata": {},
   "outputs": [],
   "source": [
    "subs = {cx : -0.8, cy : 0 , cz :0.6}\n",
    "λ2 =np.array([[cx**2 , cx*cy , cx*cz],\n",
    "                [cy*cx , cy**2 , cy*cz],\n",
    "                [cz*cx , cz*cy , cz*cz]])\n",
    "λ2 = Matrix(λ2)\n",
    "λ2 = N(λ2.subs(subs))\n",
    "k2 = Matrix(15,15,lambda i,j:0)\n",
    "k2[0:3,0:3] = λ2\n",
    "k2[0:3,6:9] = - λ2\n",
    "k2[6:9,0:3] = -λ2\n",
    "k2[6:9,6:9] = λ2\n",
    "K2 = 42000 * k2"
   ]
  },
  {
   "cell_type": "markdown",
   "metadata": {},
   "source": [
    "### Element 1-4"
   ]
  },
  {
   "cell_type": "code",
   "execution_count": 5,
   "metadata": {},
   "outputs": [],
   "source": [
    "subs = {cx : 0, cy : -1 , cz : 0}\n",
    "λ3 =np.array([[cx**2 , cx*cy , cx*cz],\n",
    "                [cy*cx , cy**2 , cy*cz],\n",
    "                [cz*cx , cz*cy , cz*cz]])\n",
    "λ3 = Matrix(λ3)\n",
    "λ3 = N(λ3.subs(subs))\n",
    "k3 = Matrix(15,15,lambda i,j:0)\n",
    "k3[0:3,0:3] = λ3\n",
    "k3[0:3,9:12] = - λ3\n",
    "k3[9:12,0:3] = -λ3\n",
    "k3[9:12,9:12] = λ3\n",
    "K3 = 52500 * k3"
   ]
  },
  {
   "cell_type": "markdown",
   "metadata": {},
   "source": [
    "### Element 1-5"
   ]
  },
  {
   "cell_type": "code",
   "execution_count": 6,
   "metadata": {},
   "outputs": [],
   "source": [
    "subs = {cx : 0.596, cy : -0.745 , cz : -0.298}\n",
    "λ4 =np.array([[cx**2 , cx*cy , cx*cz],\n",
    "                [cy*cx , cy**2 , cy*cz],\n",
    "                [cz*cx , cz*cy , cz*cz]])\n",
    "λ4 = Matrix(λ3)\n",
    "λ4 = N(λ4.subs(subs))\n",
    "k4 = Matrix(15,15,lambda i,j:0)\n",
    "k4[0:3,0:3] = λ4\n",
    "k4[0:3,12:15] = - λ4\n",
    "k4[12:15,0:3] = -λ4\n",
    "k4[12:15,12:15] = λ4\n",
    "K4 = 31305 * k4"
   ]
  },
  {
   "cell_type": "markdown",
   "metadata": {},
   "source": [
    "### Transformation Matrix\n",
    "Now we need a 15x15 transformation matix for element 4 to compencate the inclined support at node 5"
   ]
  },
  {
   "cell_type": "code",
   "execution_count": 7,
   "metadata": {},
   "outputs": [],
   "source": [
    "T1 = Matrix(15,15,lambda i,j:0)\n",
    "from math import sqrt\n",
    "t4 = Matrix(3,3,[sqrt(2)/2,sqrt(2)/2,sqrt(2)/2,sqrt(2)/2,sqrt(2)/2,sqrt(2)/2,sqrt(2)/2,sqrt(2)/2,sqrt(2)/2])\n",
    "T1[0:12,0:12] = Matrix(12,12,lambda i,j:1 if i==j else 0)\n",
    "T1[12:15,12:15] = t4\n",
    "#The transformation matrix is deriven (T1)\n",
    "#Now we need to derive the transposition of the T1 ([𝑇]𝑇) to obtain [T][Kg][𝑇]𝑇\n",
    "\n"
   ]
  },
  {
   "cell_type": "code",
   "execution_count": 8,
   "metadata": {},
   "outputs": [
    {
     "data": {
      "text/plain": [
       "array([[1, 0, 0, 0, 0, 0, 0, 0, 0, 0, 0, 0, 0, 0, 0],\n",
       "       [0, 1, 0, 0, 0, 0, 0, 0, 0, 0, 0, 0, 0, 0, 0],\n",
       "       [0, 0, 1, 0, 0, 0, 0, 0, 0, 0, 0, 0, 0, 0, 0],\n",
       "       [0, 0, 0, 1, 0, 0, 0, 0, 0, 0, 0, 0, 0, 0, 0],\n",
       "       [0, 0, 0, 0, 1, 0, 0, 0, 0, 0, 0, 0, 0, 0, 0],\n",
       "       [0, 0, 0, 0, 0, 1, 0, 0, 0, 0, 0, 0, 0, 0, 0],\n",
       "       [0, 0, 0, 0, 0, 0, 1, 0, 0, 0, 0, 0, 0, 0, 0],\n",
       "       [0, 0, 0, 0, 0, 0, 0, 1, 0, 0, 0, 0, 0, 0, 0],\n",
       "       [0, 0, 0, 0, 0, 0, 0, 0, 1, 0, 0, 0, 0, 0, 0],\n",
       "       [0, 0, 0, 0, 0, 0, 0, 0, 0, 1, 0, 0, 0, 0, 0],\n",
       "       [0, 0, 0, 0, 0, 0, 0, 0, 0, 0, 1, 0, 0, 0, 0],\n",
       "       [0, 0, 0, 0, 0, 0, 0, 0, 0, 0, 0, 1, 0, 0, 0],\n",
       "       [0, 0, 0, 0, 0, 0, 0, 0, 0, 0, 0, 0, 0.707106781186548,\n",
       "        0.707106781186548, 0.707106781186548],\n",
       "       [0, 0, 0, 0, 0, 0, 0, 0, 0, 0, 0, 0, 0.707106781186548,\n",
       "        0.707106781186548, 0.707106781186548],\n",
       "       [0, 0, 0, 0, 0, 0, 0, 0, 0, 0, 0, 0, 0.707106781186548,\n",
       "        0.707106781186548, 0.707106781186548]], dtype=object)"
      ]
     },
     "execution_count": 8,
     "metadata": {},
     "output_type": "execute_result"
    }
   ],
   "source": [
    "T2 = np.transpose(T1)\n",
    "T2"
   ]
  },
  {
   "cell_type": "code",
   "execution_count": 9,
   "metadata": {},
   "outputs": [],
   "source": [
    "Kg = K1 + K2 + K3 + K4 "
   ]
  },
  {
   "cell_type": "code",
   "execution_count": 10,
   "metadata": {},
   "outputs": [
    {
     "data": {
      "text/latex": [
       "$\\displaystyle \\left[\\begin{array}{ccccccccccccccc}53760.0 & 0 & 0 & -26880.0 & 0 & -20160.0 & -26880.0 & 0 & 20160.0 & 0 & 0 & 0 & 0 & 0 & 0\\\\0 & 83805.0 & 0 & 0 & 0 & 0 & 0 & 0 & 0 & 0 & -52500.0 & 0 & -22135.9777850449 & -22135.9777850449 & -22135.9777850449\\\\0 & 0 & 30240.0 & -20160.0 & 0 & -15120.0 & 20160.0 & 0 & -15120.0 & 0 & 0 & 0 & 0 & 0 & 0\\\\-26880.0 & 0 & -20160.0 & 26880.0 & 0 & 20160.0 & 0 & 0 & 0 & 0 & 0 & 0 & 0 & 0 & 0\\\\0 & 0 & 0 & 0 & 0 & 0 & 0 & 0 & 0 & 0 & 0 & 0 & 0 & 0 & 0\\\\-20160.0 & 0 & -15120.0 & 20160.0 & 0 & 15120.0 & 0 & 0 & 0 & 0 & 0 & 0 & 0 & 0 & 0\\\\-26880.0 & 0 & 20160.0 & 0 & 0 & 0 & 26880.0 & 0 & -20160.0 & 0 & 0 & 0 & 0 & 0 & 0\\\\0 & 0 & 0 & 0 & 0 & 0 & 0 & 0 & 0 & 0 & 0 & 0 & 0 & 0 & 0\\\\20160.0 & 0 & -15120.0 & 0 & 0 & 0 & -20160.0 & 0 & 15120.0 & 0 & 0 & 0 & 0 & 0 & 0\\\\0 & 0 & 0 & 0 & 0 & 0 & 0 & 0 & 0 & 0 & 0 & 0 & 0 & 0 & 0\\\\0 & -52500.0 & 0 & 0 & 0 & 0 & 0 & 0 & 0 & 0 & 52500.0 & 0 & 0 & 0 & 0\\\\0 & 0 & 0 & 0 & 0 & 0 & 0 & 0 & 0 & 0 & 0 & 0 & 0 & 0 & 0\\\\0 & -22135.9777850449 & 0 & 0 & 0 & 0 & 0 & 0 & 0 & 0 & 0 & 0 & 15652.5 & 15652.5 & 15652.5\\\\0 & -22135.9777850449 & 0 & 0 & 0 & 0 & 0 & 0 & 0 & 0 & 0 & 0 & 15652.5 & 15652.5 & 15652.5\\\\0 & -22135.9777850449 & 0 & 0 & 0 & 0 & 0 & 0 & 0 & 0 & 0 & 0 & 15652.5 & 15652.5 & 15652.5\\end{array}\\right]$"
      ],
      "text/plain": [
       "Matrix([\n",
       "[ 53760.0,                 0,        0, -26880.0, 0, -20160.0, -26880.0, 0,  20160.0, 0,        0, 0,                 0,                 0,                 0],\n",
       "[       0,           83805.0,        0,        0, 0,        0,        0, 0,        0, 0, -52500.0, 0, -22135.9777850449, -22135.9777850449, -22135.9777850449],\n",
       "[       0,                 0,  30240.0, -20160.0, 0, -15120.0,  20160.0, 0, -15120.0, 0,        0, 0,                 0,                 0,                 0],\n",
       "[-26880.0,                 0, -20160.0,  26880.0, 0,  20160.0,        0, 0,        0, 0,        0, 0,                 0,                 0,                 0],\n",
       "[       0,                 0,        0,        0, 0,        0,        0, 0,        0, 0,        0, 0,                 0,                 0,                 0],\n",
       "[-20160.0,                 0, -15120.0,  20160.0, 0,  15120.0,        0, 0,        0, 0,        0, 0,                 0,                 0,                 0],\n",
       "[-26880.0,                 0,  20160.0,        0, 0,        0,  26880.0, 0, -20160.0, 0,        0, 0,                 0,                 0,                 0],\n",
       "[       0,                 0,        0,        0, 0,        0,        0, 0,        0, 0,        0, 0,                 0,                 0,                 0],\n",
       "[ 20160.0,                 0, -15120.0,        0, 0,        0, -20160.0, 0,  15120.0, 0,        0, 0,                 0,                 0,                 0],\n",
       "[       0,                 0,        0,        0, 0,        0,        0, 0,        0, 0,        0, 0,                 0,                 0,                 0],\n",
       "[       0,          -52500.0,        0,        0, 0,        0,        0, 0,        0, 0,  52500.0, 0,                 0,                 0,                 0],\n",
       "[       0,                 0,        0,        0, 0,        0,        0, 0,        0, 0,        0, 0,                 0,                 0,                 0],\n",
       "[       0, -22135.9777850449,        0,        0, 0,        0,        0, 0,        0, 0,        0, 0,           15652.5,           15652.5,           15652.5],\n",
       "[       0, -22135.9777850449,        0,        0, 0,        0,        0, 0,        0, 0,        0, 0,           15652.5,           15652.5,           15652.5],\n",
       "[       0, -22135.9777850449,        0,        0, 0,        0,        0, 0,        0, 0,        0, 0,           15652.5,           15652.5,           15652.5]])"
      ]
     },
     "execution_count": 10,
     "metadata": {},
     "output_type": "execute_result"
    }
   ],
   "source": [
    "K = T1 * Kg * T2\n",
    "K"
   ]
  },
  {
   "cell_type": "markdown",
   "metadata": {},
   "source": [
    "Applying the boundary conditions where all deflections at node 2, 3, 4 and 5 are zero.\n",
    "The global equations are ; so we neglect other rows and columns "
   ]
  },
  {
   "cell_type": "code",
   "execution_count": 13,
   "metadata": {},
   "outputs": [],
   "source": [
    "f_1= Matrix(3,1,[0,-10,0])\n",
    "u1,v1,w1 = symbols(\"u1 v1 w1\")\n",
    "u_1 = Matrix(3,1,[u1,v1,w1])\n",
    "k_1 = Matrix(3,3,K[0:3,0:3])"
   ]
  },
  {
   "cell_type": "code",
   "execution_count": 15,
   "metadata": {},
   "outputs": [
    {
     "data": {
      "text/latex": [
       "$\\displaystyle \\left[\\begin{matrix}0\\\\-0.000119324622635881\\\\0\\end{matrix}\\right]$"
      ],
      "text/plain": [
       "Matrix([\n",
       "[                    0],\n",
       "[-0.000119324622635881],\n",
       "[                    0]])"
      ]
     },
     "execution_count": 15,
     "metadata": {},
     "output_type": "execute_result"
    }
   ],
   "source": [
    "u_1 = k_1.LUsolve(f_1)\n",
    "u_1"
   ]
  },
  {
   "cell_type": "code",
   "execution_count": null,
   "metadata": {},
   "outputs": [],
   "source": []
  }
 ],
 "metadata": {
  "kernelspec": {
   "display_name": "Python 3",
   "language": "python",
   "name": "python3"
  },
  "language_info": {
   "codemirror_mode": {
    "name": "ipython",
    "version": 3
   },
   "file_extension": ".py",
   "mimetype": "text/x-python",
   "name": "python",
   "nbconvert_exporter": "python",
   "pygments_lexer": "ipython3",
   "version": "3.7.4"
  }
 },
 "nbformat": 4,
 "nbformat_minor": 2
}
